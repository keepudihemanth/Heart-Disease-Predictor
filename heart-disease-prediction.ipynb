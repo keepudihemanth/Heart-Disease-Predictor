{
 "cells": [
  {
   "cell_type": "code",
   "execution_count": 1,
   "metadata": {
    "execution": {
     "iopub.execute_input": "2025-06-18T15:14:37.939760Z",
     "iopub.status.busy": "2025-06-18T15:14:37.939497Z",
     "iopub.status.idle": "2025-06-18T15:14:42.535384Z",
     "shell.execute_reply": "2025-06-18T15:14:42.534468Z",
     "shell.execute_reply.started": "2025-06-18T15:14:37.939738Z"
    }
   },
   "outputs": [],
   "source": [
    "import pandas as pd\n",
    "import numpy as np\n",
    "from sklearn.model_selection import train_test_split\n",
    "from sklearn.preprocessing import LabelEncoder, StandardScaler\n",
    "from sklearn.metrics import accuracy_score, f1_score, classification_report\n",
    "from tensorflow.keras.models import Sequential\n",
    "from tensorflow.keras.layers import Dense, Dropout\n",
    "from tensorflow.keras.callbacks import EarlyStopping"
   ]
  },
  {
   "cell_type": "code",
   "execution_count": 2,
   "metadata": {
    "execution": {
     "iopub.execute_input": "2025-06-18T15:14:42.537207Z",
     "iopub.status.busy": "2025-06-18T15:14:42.536382Z",
     "iopub.status.idle": "2025-06-18T15:14:42.679712Z",
     "shell.execute_reply": "2025-06-18T15:14:42.678724Z",
     "shell.execute_reply.started": "2025-06-18T15:14:42.537169Z"
    }
   },
   "outputs": [],
   "source": [
    "\n",
    "train_df = pd.read_csv(\"heart_train.csv\")  \n",
    "import seaborn as sns\n",
    "import matplotlib.pyplot as plt"
   ]
  },
  {
   "cell_type": "code",
   "execution_count": 3,
   "metadata": {
    "execution": {
     "iopub.execute_input": "2025-06-18T15:14:42.682261Z",
     "iopub.status.busy": "2025-06-18T15:14:42.680936Z",
     "iopub.status.idle": "2025-06-18T15:14:42.692192Z",
     "shell.execute_reply": "2025-06-18T15:14:42.691108Z",
     "shell.execute_reply.started": "2025-06-18T15:14:42.682217Z"
    }
   },
   "outputs": [],
   "source": [
    "train_df_encoded = train_df.copy()\n",
    "le = LabelEncoder()\n",
    "cols_to_encode = ['Sex', 'ChestPainType', 'RestingECG', 'ExerciseAngina', 'ST_Slope']\n",
    "\n",
    "for col in cols_to_encode:\n",
    "    train_df_encoded[col] = le.fit_transform(train_df_encoded[col])\n"
   ]
  },
  {
   "cell_type": "code",
   "execution_count": 4,
   "metadata": {
    "execution": {
     "iopub.execute_input": "2025-06-18T15:14:42.693503Z",
     "iopub.status.busy": "2025-06-18T15:14:42.693215Z",
     "iopub.status.idle": "2025-06-18T15:14:42.716644Z",
     "shell.execute_reply": "2025-06-18T15:14:42.715502Z",
     "shell.execute_reply.started": "2025-06-18T15:14:42.693480Z"
    }
   },
   "outputs": [],
   "source": [
    "X = train_df_encoded.drop('HeartDisease', axis=1)\n",
    "y = train_df_encoded['HeartDisease']\n"
   ]
  },
  {
   "cell_type": "code",
   "execution_count": 5,
   "metadata": {
    "execution": {
     "iopub.execute_input": "2025-06-18T15:14:42.718139Z",
     "iopub.status.busy": "2025-06-18T15:14:42.717758Z",
     "iopub.status.idle": "2025-06-18T15:14:42.739052Z",
     "shell.execute_reply": "2025-06-18T15:14:42.738083Z",
     "shell.execute_reply.started": "2025-06-18T15:14:42.718106Z"
    }
   },
   "outputs": [],
   "source": [
    "X_train, X_test, y_train, y_test = train_test_split(\n",
    "    X, y, test_size=0.3, random_state=42, stratify=y\n",
    ")\n"
   ]
  },
  {
   "cell_type": "code",
   "execution_count": 6,
   "metadata": {
    "execution": {
     "iopub.execute_input": "2025-06-18T15:14:42.742288Z",
     "iopub.status.busy": "2025-06-18T15:14:42.741805Z",
     "iopub.status.idle": "2025-06-18T15:14:42.766360Z",
     "shell.execute_reply": "2025-06-18T15:14:42.765265Z",
     "shell.execute_reply.started": "2025-06-18T15:14:42.742254Z"
    }
   },
   "outputs": [],
   "source": [
    "scaler = StandardScaler()\n",
    "X_train = scaler.fit_transform(X_train)\n",
    "X_test = scaler.transform(X_test)\n"
   ]
  },
  {
   "cell_type": "code",
   "execution_count": null,
   "metadata": {
    "execution": {
     "iopub.execute_input": "2025-06-18T15:14:42.767985Z",
     "iopub.status.busy": "2025-06-18T15:14:42.767582Z",
     "iopub.status.idle": "2025-06-18T15:14:42.875553Z",
     "shell.execute_reply": "2025-06-18T15:14:42.874569Z",
     "shell.execute_reply.started": "2025-06-18T15:14:42.767951Z"
    }
   },
   "outputs": [],
   "source": [
    "model = Sequential()\n",
    "model.add(Dense(128, activation='relu', input_dim=X_train.shape[1]))\n",
    "model.add(Dropout(0.2))\n",
    "model.add(Dense(62, activation='relu'))\n",
    "model.add(Dropout(0.2))\n",
    "model.add(Dense(1, activation='sigmoid'))\n"
   ]
  },
  {
   "cell_type": "code",
   "execution_count": 8,
   "metadata": {
    "execution": {
     "iopub.execute_input": "2025-06-18T15:14:42.876707Z",
     "iopub.status.busy": "2025-06-18T15:14:42.876459Z",
     "iopub.status.idle": "2025-06-18T15:14:42.895208Z",
     "shell.execute_reply": "2025-06-18T15:14:42.894198Z",
     "shell.execute_reply.started": "2025-06-18T15:14:42.876685Z"
    }
   },
   "outputs": [],
   "source": [
    "from tensorflow.keras.optimizers import Adam\n",
    "optimizer = Adam(learning_rate=0.0005)  # Lower learning rate\n",
    "\n",
    "model.compile(optimizer=optimizer, loss='binary_crossentropy', metrics=['accuracy'])"
   ]
  },
  {
   "cell_type": "code",
   "execution_count": 9,
   "metadata": {
    "execution": {
     "iopub.execute_input": "2025-06-18T15:14:42.897102Z",
     "iopub.status.busy": "2025-06-18T15:14:42.896417Z",
     "iopub.status.idle": "2025-06-18T15:14:49.926288Z",
     "shell.execute_reply": "2025-06-18T15:14:49.925272Z",
     "shell.execute_reply.started": "2025-06-18T15:14:42.897067Z"
    }
   },
   "outputs": [],
   "source": [
    "early_stop = EarlyStopping(monitor='val_loss', patience=10, restore_best_weights=True)\n",
    "history = model.fit(\n",
    "    X_train, y_train, epochs=100, batch_size=16,\n",
    "    validation_split=0.2, callbacks=[early_stop], verbose=0\n",
    ")\n"
   ]
  },
  {
   "cell_type": "code",
   "execution_count": 10,
   "metadata": {
    "execution": {
     "iopub.execute_input": "2025-06-18T15:14:49.927991Z",
     "iopub.status.busy": "2025-06-18T15:14:49.927661Z",
     "iopub.status.idle": "2025-06-18T15:14:50.144716Z",
     "shell.execute_reply": "2025-06-18T15:14:50.143751Z",
     "shell.execute_reply.started": "2025-06-18T15:14:49.927966Z"
    }
   },
   "outputs": [
    {
     "name": "stdout",
     "output_type": "stream",
     "text": [
      "\u001b[1m7/7\u001b[0m \u001b[32m━━━━━━━━━━━━━━━━━━━━\u001b[0m\u001b[37m\u001b[0m \u001b[1m0s\u001b[0m 16ms/step\n"
     ]
    }
   ],
   "source": [
    "# Get predicted probabilities and class predictions\n",
    "y_pred = model.predict(X_test)\n",
    "y_pred_class = (y_pred > 0.5).astype(\"int32\")"
   ]
  },
  {
   "cell_type": "code",
   "execution_count": 11,
   "metadata": {
    "execution": {
     "iopub.execute_input": "2025-06-18T15:14:50.146094Z",
     "iopub.status.busy": "2025-06-18T15:14:50.145794Z",
     "iopub.status.idle": "2025-06-18T15:14:50.164839Z",
     "shell.execute_reply": "2025-06-18T15:14:50.163788Z",
     "shell.execute_reply.started": "2025-06-18T15:14:50.146072Z"
    }
   },
   "outputs": [
    {
     "name": "stdout",
     "output_type": "stream",
     "text": [
      "Accuracy: 0.8190\n",
      "F1 Score: 0.8319\n",
      "\n",
      "Classification Report:\n",
      "              precision    recall  f1-score   support\n",
      "\n",
      "           0       0.78      0.83      0.80        99\n",
      "           1       0.85      0.81      0.83       122\n",
      "\n",
      "    accuracy                           0.82       221\n",
      "   macro avg       0.82      0.82      0.82       221\n",
      "weighted avg       0.82      0.82      0.82       221\n",
      "\n"
     ]
    }
   ],
   "source": [
    "# Resultss\n",
    "acc = accuracy_score(y_test, y_pred_class)\n",
    "f1 = f1_score(y_test, y_pred_class)\n",
    "report = classification_report(y_test, y_pred_class)\n",
    "print(f\"Accuracy: {acc:.4f}\")\n",
    "print(f\"F1 Score: {f1:.4f}\")\n",
    "print(\"\\nClassification Report:\")\n",
    "print(report)"
   ]
  },
  {
   "cell_type": "code",
   "execution_count": 12,
   "metadata": {
    "execution": {
     "iopub.execute_input": "2025-06-18T15:14:50.166603Z",
     "iopub.status.busy": "2025-06-18T15:14:50.166219Z",
     "iopub.status.idle": "2025-06-18T15:14:50.320689Z",
     "shell.execute_reply": "2025-06-18T15:14:50.319208Z",
     "shell.execute_reply.started": "2025-06-18T15:14:50.166569Z"
    }
   },
   "outputs": [
    {
     "name": "stdout",
     "output_type": "stream",
     "text": [
      "\u001b[1m6/6\u001b[0m \u001b[32m━━━━━━━━━━━━━━━━━━━━\u001b[0m\u001b[37m\u001b[0m \u001b[1m0s\u001b[0m 18ms/step \n",
      "file saved \n"
     ]
    }
   ],
   "source": [
    "# Load test data \n",
    "test_df = pd.read_csv(\"heart_test.csv\")\n",
    "\n",
    "# Store ID column if it exists\n",
    "if \"id\" in test_df.columns:\n",
    "    ids = test_df[\"id\"]\n",
    "else:\n",
    "    ids = pd.Series(range(len(test_df)))  # fallback if no ID column\n",
    "\n",
    "# Encode categorical columns (ensure same columns as training)\n",
    "test_df_encoded = test_df.copy()\n",
    "for col in cols_to_encode:\n",
    "    test_df_encoded[col] = le.fit_transform(test_df_encoded[col].astype(str))\n",
    "\n",
    "# Scale features (must drop ID column if it exists)\n",
    "X_final_test = test_df_encoded.drop(columns=[\"id\"], errors=\"ignore\")\n",
    "X_final_test = scaler.transform(X_final_test)\n",
    "\n",
    "# Predict using trained MLP model\n",
    "test_pred = model.predict(X_final_test)\n",
    "test_pred_class = (test_pred > 0.5).astype(\"int32\").ravel()\n",
    "\n",
    "# Create submission DataFrame\n",
    "submission = pd.DataFrame({\n",
    "    \"id\": ids,\n",
    "    \"HeartDisease\": test_pred_class\n",
    "})\n",
    "\n",
    "# Save to CSV\n",
    "submission.to_csv(\"submission.csv\", index=False)\n",
    "print(\"file saved \")\n"
   ]
  },
  {
   "cell_type": "code",
   "execution_count": 13,
   "metadata": {},
   "outputs": [
    {
     "data": {
      "text/html": [
       "<div>\n",
       "<style scoped>\n",
       "    .dataframe tbody tr th:only-of-type {\n",
       "        vertical-align: middle;\n",
       "    }\n",
       "\n",
       "    .dataframe tbody tr th {\n",
       "        vertical-align: top;\n",
       "    }\n",
       "\n",
       "    .dataframe thead th {\n",
       "        text-align: right;\n",
       "    }\n",
       "</style>\n",
       "<table border=\"1\" class=\"dataframe\">\n",
       "  <thead>\n",
       "    <tr style=\"text-align: right;\">\n",
       "      <th></th>\n",
       "      <th>Age</th>\n",
       "      <th>Sex</th>\n",
       "      <th>ChestPainType</th>\n",
       "      <th>RestingBP</th>\n",
       "      <th>Cholesterol</th>\n",
       "      <th>FastingBS</th>\n",
       "      <th>RestingECG</th>\n",
       "      <th>MaxHR</th>\n",
       "      <th>ExerciseAngina</th>\n",
       "      <th>Oldpeak</th>\n",
       "      <th>ST_Slope</th>\n",
       "      <th>HeartDisease</th>\n",
       "    </tr>\n",
       "  </thead>\n",
       "  <tbody>\n",
       "    <tr>\n",
       "      <th>0</th>\n",
       "      <td>63</td>\n",
       "      <td>M</td>\n",
       "      <td>ATA</td>\n",
       "      <td>139</td>\n",
       "      <td>217</td>\n",
       "      <td>1</td>\n",
       "      <td>ST</td>\n",
       "      <td>128</td>\n",
       "      <td>Y</td>\n",
       "      <td>1.2</td>\n",
       "      <td>Flat</td>\n",
       "      <td>1</td>\n",
       "    </tr>\n",
       "    <tr>\n",
       "      <th>1</th>\n",
       "      <td>55</td>\n",
       "      <td>M</td>\n",
       "      <td>ATA</td>\n",
       "      <td>110</td>\n",
       "      <td>214</td>\n",
       "      <td>1</td>\n",
       "      <td>ST</td>\n",
       "      <td>180</td>\n",
       "      <td>N</td>\n",
       "      <td>0.4</td>\n",
       "      <td>Up</td>\n",
       "      <td>0</td>\n",
       "    </tr>\n",
       "    <tr>\n",
       "      <th>2</th>\n",
       "      <td>59</td>\n",
       "      <td>F</td>\n",
       "      <td>ASY</td>\n",
       "      <td>130</td>\n",
       "      <td>338</td>\n",
       "      <td>1</td>\n",
       "      <td>ST</td>\n",
       "      <td>130</td>\n",
       "      <td>Y</td>\n",
       "      <td>1.5</td>\n",
       "      <td>Flat</td>\n",
       "      <td>1</td>\n",
       "    </tr>\n",
       "    <tr>\n",
       "      <th>3</th>\n",
       "      <td>47</td>\n",
       "      <td>M</td>\n",
       "      <td>ASY</td>\n",
       "      <td>160</td>\n",
       "      <td>0</td>\n",
       "      <td>0</td>\n",
       "      <td>Normal</td>\n",
       "      <td>124</td>\n",
       "      <td>Y</td>\n",
       "      <td>0.0</td>\n",
       "      <td>Flat</td>\n",
       "      <td>1</td>\n",
       "    </tr>\n",
       "    <tr>\n",
       "      <th>4</th>\n",
       "      <td>50</td>\n",
       "      <td>M</td>\n",
       "      <td>ASY</td>\n",
       "      <td>145</td>\n",
       "      <td>0</td>\n",
       "      <td>1</td>\n",
       "      <td>Normal</td>\n",
       "      <td>139</td>\n",
       "      <td>Y</td>\n",
       "      <td>0.7</td>\n",
       "      <td>Flat</td>\n",
       "      <td>1</td>\n",
       "    </tr>\n",
       "    <tr>\n",
       "      <th>5</th>\n",
       "      <td>49</td>\n",
       "      <td>F</td>\n",
       "      <td>ATA</td>\n",
       "      <td>134</td>\n",
       "      <td>271</td>\n",
       "      <td>0</td>\n",
       "      <td>Normal</td>\n",
       "      <td>162</td>\n",
       "      <td>N</td>\n",
       "      <td>0.0</td>\n",
       "      <td>Flat</td>\n",
       "      <td>0</td>\n",
       "    </tr>\n",
       "    <tr>\n",
       "      <th>6</th>\n",
       "      <td>64</td>\n",
       "      <td>M</td>\n",
       "      <td>ASY</td>\n",
       "      <td>144</td>\n",
       "      <td>0</td>\n",
       "      <td>0</td>\n",
       "      <td>ST</td>\n",
       "      <td>122</td>\n",
       "      <td>Y</td>\n",
       "      <td>1.0</td>\n",
       "      <td>Flat</td>\n",
       "      <td>1</td>\n",
       "    </tr>\n",
       "    <tr>\n",
       "      <th>7</th>\n",
       "      <td>47</td>\n",
       "      <td>F</td>\n",
       "      <td>ATA</td>\n",
       "      <td>140</td>\n",
       "      <td>257</td>\n",
       "      <td>0</td>\n",
       "      <td>Normal</td>\n",
       "      <td>135</td>\n",
       "      <td>N</td>\n",
       "      <td>1.0</td>\n",
       "      <td>Up</td>\n",
       "      <td>0</td>\n",
       "    </tr>\n",
       "    <tr>\n",
       "      <th>8</th>\n",
       "      <td>52</td>\n",
       "      <td>F</td>\n",
       "      <td>ATA</td>\n",
       "      <td>120</td>\n",
       "      <td>210</td>\n",
       "      <td>0</td>\n",
       "      <td>Normal</td>\n",
       "      <td>148</td>\n",
       "      <td>N</td>\n",
       "      <td>0.0</td>\n",
       "      <td>Up</td>\n",
       "      <td>0</td>\n",
       "    </tr>\n",
       "  </tbody>\n",
       "</table>\n",
       "</div>"
      ],
      "text/plain": [
       "   Age Sex ChestPainType  RestingBP  Cholesterol  FastingBS RestingECG  MaxHR  \\\n",
       "0   63   M           ATA        139          217          1         ST    128   \n",
       "1   55   M           ATA        110          214          1         ST    180   \n",
       "2   59   F           ASY        130          338          1         ST    130   \n",
       "3   47   M           ASY        160            0          0     Normal    124   \n",
       "4   50   M           ASY        145            0          1     Normal    139   \n",
       "5   49   F           ATA        134          271          0     Normal    162   \n",
       "6   64   M           ASY        144            0          0         ST    122   \n",
       "7   47   F           ATA        140          257          0     Normal    135   \n",
       "8   52   F           ATA        120          210          0     Normal    148   \n",
       "\n",
       "  ExerciseAngina  Oldpeak ST_Slope  HeartDisease  \n",
       "0              Y      1.2     Flat             1  \n",
       "1              N      0.4       Up             0  \n",
       "2              Y      1.5     Flat             1  \n",
       "3              Y      0.0     Flat             1  \n",
       "4              Y      0.7     Flat             1  \n",
       "5              N      0.0     Flat             0  \n",
       "6              Y      1.0     Flat             1  \n",
       "7              N      1.0       Up             0  \n",
       "8              N      0.0       Up             0  "
      ]
     },
     "execution_count": 13,
     "metadata": {},
     "output_type": "execute_result"
    }
   ],
   "source": [
    "# Check the results of trained data\n",
    "train_df.head(9)"
   ]
  },
  {
   "cell_type": "code",
   "execution_count": 14,
   "metadata": {},
   "outputs": [
    {
     "name": "stdout",
     "output_type": "stream",
     "text": [
      "\u001b[1m7/7\u001b[0m \u001b[32m━━━━━━━━━━━━━━━━━━━━\u001b[0m\u001b[37m\u001b[0m \u001b[1m0s\u001b[0m 12ms/step\n"
     ]
    },
    {
     "data": {
      "image/png": "[encoded data removed]",
      "text/plain": [
       "<Figure size 640x480 with 2 Axes>"
      ]
     },
     "metadata": {},
     "output_type": "display_data"
    },
    {
     "data": {
      "image/png": "[encoded data removed]",
      "text/plain": [
       "<Figure size 640x480 with 1 Axes>"
      ]
     },
     "metadata": {},
     "output_type": "display_data"
    }
   ],
   "source": [
    "y_pred_prob = model.predict(X_test).ravel()\n",
    "y_pred_class = (y_pred_prob > 0.5).astype(int)\n",
    "\n",
    "# Confusion Matrix\n",
    "from sklearn.metrics import confusion_matrix, ConfusionMatrixDisplay\n",
    "import matplotlib.pyplot as plt\n",
    "\n",
    "cm = confusion_matrix(y_test, y_pred_class)\n",
    "disp = ConfusionMatrixDisplay(confusion_matrix=cm)\n",
    "disp.plot(cmap=plt.cm.Blues)\n",
    "plt.title(\"Confusion Matrix\")\n",
    "plt.show()\n",
    "\n",
    "# ROC Curve\n",
    "from sklearn.metrics import roc_curve, auc\n",
    "\n",
    "fpr, tpr, thresholds = roc_curve(y_test, y_pred_prob)\n",
    "roc_auc = auc(fpr, tpr)\n",
    "\n",
    "plt.figure()\n",
    "plt.plot(fpr, tpr, color=\"darkorange\", lw=2, label=f\"ROC curve (area = {roc_auc:.2f})\")\n",
    "plt.plot([0, 1], [0, 1], color=\"navy\", lw=2, linestyle=\"--\")\n",
    "plt.xlim([0.0, 1.0])\n",
    "plt.ylim([0.0, 1.05])\n",
    "plt.xlabel(\"False Positive Rate\")\n",
    "plt.ylabel(\"True Positive Rate\")\n",
    "plt.title(\"Receiver Operating Characteristic\")\n",
    "plt.legend(loc=\"lower right\")\n",
    "plt.show()\n"
   ]
  },
  {
   "cell_type": "code",
   "execution_count": 15,
   "metadata": {},
   "outputs": [
    {
     "name": "stderr",
     "output_type": "stream",
     "text": [
      "WARNING:absl:You are saving your model as an HDF5 file via `model.save()` or `keras.saving.save_model(model)`. This file format is considered legacy. We recommend using instead the native Keras format, e.g. `model.save('my_model.keras')` or `keras.saving.save_model(model, 'my_model.keras')`. \n"
     ]
    }
   ],
   "source": [
    "# Save the trained model to a .h5 file\n",
    "model.save('heart_model.h5')\n"
   ]
  }
 ],
 "metadata": {
  "kaggle": {
   "accelerator": "none",
   "dataSources": [
    {
     "databundleVersionId": 11798672,
     "sourceId": 97772,
     "sourceType": "competition"
    }
   ],
   "dockerImageVersionId": 31040,
   "isGpuEnabled": false,
   "isInternetEnabled": true,
   "language": "python",
   "sourceType": "notebook"
  },
  "kernelspec": {
   "display_name": "Python (myenv)",
   "language": "python",
   "name": "myenv"
  },
  "language_info": {
   "codemirror_mode": {
    "name": "ipython",
    "version": 3
   },
   "file_extension": ".py",
   "mimetype": "text/x-python",
   "name": "python",
   "nbconvert_exporter": "python",
   "pygments_lexer": "ipython3",
   "version": "3.11.9"
  }
 },
 "nbformat": 4,
 "nbformat_minor": 4
}
